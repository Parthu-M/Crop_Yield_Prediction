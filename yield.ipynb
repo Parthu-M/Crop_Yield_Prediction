{
 "cells": [
  {
   "cell_type": "code",
   "execution_count": 1,
   "id": "aaa4fc4b",
   "metadata": {},
   "outputs": [],
   "source": [
    "import os\n",
    "import pickle\n",
    "import numpy as np\n",
    "import pandas as pd\n",
    "\n",
    "from sklearn.model_selection import train_test_split\n",
    "from sklearn.preprocessing import LabelEncoder, StandardScaler\n",
    "from sklearn.metrics import mean_squared_error, r2_score\n",
    "\n",
    "# Models\n",
    "from sklearn.linear_model import LinearRegression, Ridge\n",
    "from sklearn.tree import DecisionTreeRegressor\n",
    "from sklearn.ensemble import RandomForestRegressor, GradientBoostingRegressor, StackingRegressor\n",
    "from xgboost import XGBRegressor\n",
    "from lightgbm import LGBMRegressor\n",
    "from catboost import CatBoostRegressor\n"
   ]
  },
  {
   "cell_type": "code",
   "execution_count": 2,
   "id": "492746ed",
   "metadata": {},
   "outputs": [
    {
     "name": "stdout",
     "output_type": "stream",
     "text": [
      "Requirement already satisfied: six in c:\\users\\majji\\appdata\\local\\packages\\pythonsoftwarefoundation.python.3.10_qbz5n2kfra8p0\\localcache\\local-packages\\python310\\site-packages (1.17.0)\n"
     ]
    },
    {
     "name": "stderr",
     "output_type": "stream",
     "text": [
      "\n",
      "[notice] A new release of pip is available: 23.0.1 -> 25.1.1\n",
      "[notice] To update, run: C:\\Users\\majji\\AppData\\Local\\Microsoft\\WindowsApps\\PythonSoftwareFoundation.Python.3.10_qbz5n2kfra8p0\\python.exe -m pip install --upgrade pip\n"
     ]
    }
   ],
   "source": [
    "! pip install six"
   ]
  },
  {
   "cell_type": "code",
   "execution_count": 3,
   "id": "2174b15e",
   "metadata": {},
   "outputs": [
    {
     "name": "stdout",
     "output_type": "stream",
     "text": [
      "1.17.0\n"
     ]
    }
   ],
   "source": [
    "import six\n",
    "print(six.__version__)"
   ]
  },
  {
   "cell_type": "code",
   "execution_count": 4,
   "id": "887dabb0",
   "metadata": {},
   "outputs": [
    {
     "name": "stdout",
     "output_type": "stream",
     "text": [
      "Requirement already satisfied: kaggle in c:\\users\\majji\\appdata\\local\\packages\\pythonsoftwarefoundation.python.3.10_qbz5n2kfra8p0\\localcache\\local-packages\\python310\\site-packages (1.7.4.5)\n",
      "Requirement already satisfied: six in c:\\users\\majji\\appdata\\local\\packages\\pythonsoftwarefoundation.python.3.10_qbz5n2kfra8p0\\localcache\\local-packages\\python310\\site-packages (1.17.0)\n",
      "Requirement already satisfied: idna in c:\\users\\majji\\appdata\\local\\packages\\pythonsoftwarefoundation.python.3.10_qbz5n2kfra8p0\\localcache\\local-packages\\python310\\site-packages (from kaggle) (3.10)\n",
      "Requirement already satisfied: setuptools>=21.0.0 in c:\\program files\\windowsapps\\pythonsoftwarefoundation.python.3.10_3.10.3056.0_x64__qbz5n2kfra8p0\\lib\\site-packages (from kaggle) (65.5.0)\n",
      "Requirement already satisfied: requests in c:\\users\\majji\\appdata\\local\\packages\\pythonsoftwarefoundation.python.3.10_qbz5n2kfra8p0\\localcache\\local-packages\\python310\\site-packages (from kaggle) (2.32.4)\n",
      "Requirement already satisfied: protobuf in c:\\users\\majji\\appdata\\local\\packages\\pythonsoftwarefoundation.python.3.10_qbz5n2kfra8p0\\localcache\\local-packages\\python310\\site-packages (from kaggle) (6.31.1)\n",
      "Requirement already satisfied: webencodings in c:\\users\\majji\\appdata\\local\\packages\\pythonsoftwarefoundation.python.3.10_qbz5n2kfra8p0\\localcache\\local-packages\\python310\\site-packages (from kaggle) (0.5.1)\n",
      "Requirement already satisfied: urllib3>=1.15.1 in c:\\users\\majji\\appdata\\local\\packages\\pythonsoftwarefoundation.python.3.10_qbz5n2kfra8p0\\localcache\\local-packages\\python310\\site-packages (from kaggle) (2.5.0)\n",
      "Requirement already satisfied: bleach in c:\\users\\majji\\appdata\\local\\packages\\pythonsoftwarefoundation.python.3.10_qbz5n2kfra8p0\\localcache\\local-packages\\python310\\site-packages (from kaggle) (6.2.0)\n",
      "Requirement already satisfied: python-slugify in c:\\users\\majji\\appdata\\local\\packages\\pythonsoftwarefoundation.python.3.10_qbz5n2kfra8p0\\localcache\\local-packages\\python310\\site-packages (from kaggle) (8.0.4)\n",
      "Requirement already satisfied: text-unidecode in c:\\users\\majji\\appdata\\local\\packages\\pythonsoftwarefoundation.python.3.10_qbz5n2kfra8p0\\localcache\\local-packages\\python310\\site-packages (from kaggle) (1.3)\n",
      "Requirement already satisfied: tqdm in c:\\users\\majji\\appdata\\local\\packages\\pythonsoftwarefoundation.python.3.10_qbz5n2kfra8p0\\localcache\\local-packages\\python310\\site-packages (from kaggle) (4.67.1)\n",
      "Requirement already satisfied: charset-normalizer in c:\\users\\majji\\appdata\\local\\packages\\pythonsoftwarefoundation.python.3.10_qbz5n2kfra8p0\\localcache\\local-packages\\python310\\site-packages (from kaggle) (3.4.2)\n",
      "Requirement already satisfied: python-dateutil>=2.5.3 in c:\\users\\majji\\appdata\\local\\packages\\pythonsoftwarefoundation.python.3.10_qbz5n2kfra8p0\\localcache\\local-packages\\python310\\site-packages (from kaggle) (2.9.0.post0)\n",
      "Requirement already satisfied: certifi>=14.05.14 in c:\\users\\majji\\appdata\\local\\packages\\pythonsoftwarefoundation.python.3.10_qbz5n2kfra8p0\\localcache\\local-packages\\python310\\site-packages (from kaggle) (2025.6.15)\n",
      "Requirement already satisfied: colorama in c:\\users\\majji\\appdata\\local\\packages\\pythonsoftwarefoundation.python.3.10_qbz5n2kfra8p0\\localcache\\local-packages\\python310\\site-packages (from tqdm->kaggle) (0.4.6)\n"
     ]
    },
    {
     "name": "stderr",
     "output_type": "stream",
     "text": [
      "\n",
      "[notice] A new release of pip is available: 23.0.1 -> 25.1.1\n",
      "[notice] To update, run: C:\\Users\\majji\\AppData\\Local\\Microsoft\\WindowsApps\\PythonSoftwareFoundation.Python.3.10_qbz5n2kfra8p0\\python.exe -m pip install --upgrade pip\n"
     ]
    }
   ],
   "source": [
    "import sys\n",
    "!{sys.executable} -m pip install kaggle six\n"
   ]
  },
  {
   "cell_type": "code",
   "execution_count": 5,
   "id": "c0c25c61",
   "metadata": {},
   "outputs": [
    {
     "name": "stdout",
     "output_type": "stream",
     "text": [
      "Python 3.10.11\n",
      "c:\\Users\\majji\\AppData\\Local\\Microsoft\\WindowsApps\\python.exe\n",
      "C:\\Users\\majji\\AppData\\Local\\Programs\\Python\\Python311\\python.exe\n",
      "Name: six\n",
      "Version: 1.17.0\n",
      "Summary: Python 2 and 3 compatibility utilities\n",
      "Home-page: https://github.com/benjaminp/six\n",
      "Author: Benjamin Peterson\n",
      "Author-email: benjamin@python.org\n",
      "License: MIT\n",
      "Location: c:\\users\\majji\\appdata\\local\\packages\\pythonsoftwarefoundation.python.3.10_qbz5n2kfra8p0\\localcache\\local-packages\\python310\\site-packages\n",
      "Requires: \n",
      "Required-by: catboost, kaggle, python-dateutil\n"
     ]
    }
   ],
   "source": [
    "!python --version\n",
    "!where python\n",
    "!pip show six"
   ]
  },
  {
   "cell_type": "code",
   "execution_count": 6,
   "id": "ecfc4a7f",
   "metadata": {},
   "outputs": [
    {
     "name": "stdout",
     "output_type": "stream",
     "text": [
      "📦 Downloading from Kaggle...\n",
      "Dataset URL: https://www.kaggle.com/datasets/samuelotiattakorah/agriculture-crop-yield\n",
      "📂 Unzipping downloaded file...\n",
      "✅ Unzipped successfully!\n"
     ]
    }
   ],
   "source": [
    "from kaggle.api.kaggle_api_extended import KaggleApi\n",
    "import os\n",
    "import zipfile\n",
    "\n",
    "# Set up and authenticate API\n",
    "api = KaggleApi()\n",
    "api.authenticate()\n",
    "\n",
    "# Define paths\n",
    "dataset_path = \"data/\"\n",
    "zip_path = os.path.join(dataset_path, \"agriculture-crop-yield.zip\")\n",
    "\n",
    "# Make sure data folder exists\n",
    "os.makedirs(dataset_path, exist_ok=True)\n",
    "\n",
    "# Download the dataset ZIP\n",
    "print(\"📦 Downloading from Kaggle...\")\n",
    "api.dataset_download_files(\n",
    "    'samuelotiattakorah/agriculture-crop-yield',\n",
    "    path=dataset_path,\n",
    "    unzip=False  # we’ll unzip manually\n",
    ")\n",
    "\n",
    "# ✅ Extract manually\n",
    "if os.path.exists(zip_path):\n",
    "    print(\"📂 Unzipping downloaded file...\")\n",
    "    with zipfile.ZipFile(zip_path, 'r') as zip_ref:\n",
    "        zip_ref.extractall(dataset_path)\n",
    "    print(\"✅ Unzipped successfully!\")\n",
    "\n",
    "    # (Optional) Delete zip to save space\n",
    "    os.remove(zip_path)\n",
    "else:\n",
    "    print(\"❌ ZIP file not found after download.\")\n"
   ]
  },
  {
   "cell_type": "code",
   "execution_count": 7,
   "id": "15753816",
   "metadata": {},
   "outputs": [],
   "source": [
    "# Load dataset\n",
    "df = pd.read_csv(\"D:\\project\\ML\\Crop_Yield_Prediction\\data\\Crop_Yield.csv\")"
   ]
  },
  {
   "cell_type": "code",
   "execution_count": 8,
   "id": "4152f21e",
   "metadata": {},
   "outputs": [],
   "source": [
    "numerical_cols = [\"Rainfall_mm\", \"Temperature_Celsius\", \"Days_to_Harvest\"]\n",
    "categorical_cols = [\"Region\", \"Soil_Type\", \"Crop\", \"Weather_Condition\"]\n",
    "\n",
    "# Scale numerical columns\n",
    "scaler = StandardScaler()\n",
    "df[numerical_cols] = scaler.fit_transform(df[numerical_cols])\n",
    "\n",
    "# Encode categorical columns\n",
    "label_encoders = {}\n",
    "for col in categorical_cols:\n",
    "    le = LabelEncoder()\n",
    "    df[col] = le.fit_transform(df[col])\n",
    "    label_encoders[col] = le\n",
    "\n",
    "# Convert boolean columns\n",
    "df[\"Fertilizer_Used\"] = df[\"Fertilizer_Used\"].astype(int)\n",
    "df[\"Irrigation_Used\"] = df[\"Irrigation_Used\"].astype(int)\n",
    "\n",
    "# Optional: Downcast to reduce memory usage\n",
    "for col in df.select_dtypes(include=[\"float64\", \"int64\"]).columns:\n",
    "    df[col] = pd.to_numeric(df[col], downcast=\"float\")\n"
   ]
  },
  {
   "cell_type": "code",
   "execution_count": 9,
   "id": "54eec1d5",
   "metadata": {},
   "outputs": [],
   "source": [
    "os.makedirs(\"data\", exist_ok=True)\n",
    "with open(\"data/label_encoders.pkl\", \"wb\") as f:\n",
    "    pickle.dump(label_encoders, f)\n",
    "with open(\"data/scaler.pkl\", \"wb\") as f:\n",
    "    pickle.dump(scaler, f)\n"
   ]
  },
  {
   "cell_type": "code",
   "execution_count": 10,
   "id": "6c1f52dd",
   "metadata": {},
   "outputs": [],
   "source": [
    "X = df.drop(columns=[\"Yield_tons_per_hectare\"])\n",
    "y = df[\"Yield_tons_per_hectare\"]\n",
    "\n",
    "X_train, X_test, y_train, y_test = train_test_split(X, y, test_size=0.2, random_state=42)\n"
   ]
  },
  {
   "cell_type": "code",
   "execution_count": 12,
   "id": "2e198be6",
   "metadata": {},
   "outputs": [
    {
     "name": "stdout",
     "output_type": "stream",
     "text": [
      "Linear          R²: 0.9130 | RMSE: 0.5008\n",
      "Ridge           R²: 0.9130 | RMSE: 0.5008\n",
      "GradientBoosting R²: 0.9125 | RMSE: 0.5024\n",
      "XGBoost         R²: 0.9124 | RMSE: 0.5025\n",
      "[LightGBM] [Info] Auto-choosing row-wise multi-threading, the overhead of testing was 0.006288 seconds.\n",
      "You can set `force_row_wise=true` to remove the overhead.\n",
      "And if memory is not enough, you can set `force_col_wise=true`.\n",
      "[LightGBM] [Info] Total Bins 624\n",
      "[LightGBM] [Info] Number of data points in the train set: 800000, number of used features: 9\n",
      "[LightGBM] [Info] Start training from score 4.649019\n",
      "LightGBM        R²: 0.9128 | RMSE: 0.5013\n",
      "CatBoost        R²: 0.9128 | RMSE: 0.5013\n"
     ]
    }
   ],
   "source": [
    "models = {\n",
    "    \"Linear\": LinearRegression(),\n",
    "    \"Ridge\": Ridge(),\n",
    "    \"GradientBoosting\": GradientBoostingRegressor(),\n",
    "    \"XGBoost\": XGBRegressor(),\n",
    "    \"LightGBM\": LGBMRegressor(),\n",
    "    \"CatBoost\": CatBoostRegressor(verbose=0)\n",
    "}\n",
    "\n",
    "os.makedirs(\"models\", exist_ok=True)\n",
    "\n",
    "# Train and evaluate each model\n",
    "for name, model in models.items():\n",
    "    model.fit(X_train, y_train)\n",
    "    preds = model.predict(X_test)\n",
    "    r2 = r2_score(y_test, preds)\n",
    "    rmse = np.sqrt(mean_squared_error(y_test, preds))\n",
    "    print(f\"{name:15} R²: {r2:.4f} | RMSE: {rmse:.4f}\")\n",
    "    pickle.dump(model, open(f\"models/{name}.pkl\", \"wb\"))"
   ]
  },
  {
   "cell_type": "code",
   "execution_count": 13,
   "id": "d81fa78c",
   "metadata": {},
   "outputs": [],
   "source": [
    "def predict_yield_selected_models(input_data):\n",
    "    import pickle\n",
    "    import pandas as pd\n",
    "    import os\n",
    "\n",
    "    # Load preprocessing objects\n",
    "    with open(\"data/label_encoders.pkl\", \"rb\") as f:\n",
    "        label_encoders = pickle.load(f)\n",
    "    with open(\"data/scaler.pkl\", \"rb\") as f:\n",
    "        scaler = pickle.load(f)\n",
    "\n",
    "    # Convert to DataFrame\n",
    "    input_df = pd.DataFrame([input_data])\n",
    "\n",
    "    # Preprocessing\n",
    "    for col in [\"Region\", \"Soil_Type\", \"Crop\", \"Weather_Condition\"]:\n",
    "        input_df[col] = label_encoders[col].transform(input_df[col])\n",
    "\n",
    "    input_df[[\"Rainfall_mm\", \"Temperature_Celsius\", \"Days_to_Harvest\"]] = scaler.transform(\n",
    "        input_df[[\"Rainfall_mm\", \"Temperature_Celsius\", \"Days_to_Harvest\"]]\n",
    "    )\n",
    "\n",
    "    input_df[\"Fertilizer_Used\"] = int(input_df[\"Fertilizer_Used\"])\n",
    "    input_df[\"Irrigation_Used\"] = int(input_df[\"Irrigation_Used\"])\n",
    "\n",
    "    # Select lightweight models only\n",
    "    model_files = [\n",
    "        \"Linear.pkl\",\n",
    "        \"Ridge.pkl\",\n",
    "        \"GradientBoosting.pkl\",\n",
    "        \"LightGBM.pkl\",\n",
    "        \"CatBoost.pkl\",\n",
    "        \"XGBoost.pkl\"\n",
    "    ]\n",
    "\n",
    "    predictions = {}\n",
    "\n",
    "    for model_file in model_files:\n",
    "        model_name = model_file.replace(\".pkl\", \"\")\n",
    "        with open(os.path.join(\"models\", model_file), \"rb\") as f:\n",
    "            model = pickle.load(f)\n",
    "            predictions[model_name] = model.predict(input_df)[0]\n",
    "\n",
    "    return predictions\n"
   ]
  },
  {
   "cell_type": "code",
   "execution_count": 14,
   "id": "5bbe083d",
   "metadata": {},
   "outputs": [
    {
     "name": "stdout",
     "output_type": "stream",
     "text": [
      "\n",
      "🌾 Crop Yield Predictions (tons/ha):\n",
      "              Linear: 6.23728\n",
      "               Ridge: 6.23728\n",
      "    GradientBoosting: 6.23112\n",
      "            LightGBM: 6.26000\n",
      "            CatBoost: 6.22566\n",
      "             XGBoost: 6.14534\n"
     ]
    },
    {
     "name": "stderr",
     "output_type": "stream",
     "text": [
      "C:\\Users\\majji\\AppData\\Local\\Temp\\ipykernel_10616\\2296618580.py:23: FutureWarning: Calling int on a single element Series is deprecated and will raise a TypeError in the future. Use int(ser.iloc[0]) instead\n",
      "  input_df[\"Fertilizer_Used\"] = int(input_df[\"Fertilizer_Used\"])\n",
      "C:\\Users\\majji\\AppData\\Local\\Temp\\ipykernel_10616\\2296618580.py:24: FutureWarning: Calling int on a single element Series is deprecated and will raise a TypeError in the future. Use int(ser.iloc[0]) instead\n",
      "  input_df[\"Irrigation_Used\"] = int(input_df[\"Irrigation_Used\"])\n"
     ]
    }
   ],
   "source": [
    "if __name__ == \"__main__\":\n",
    "    example_data = {\n",
    "        \"Region\": \"West\",\n",
    "        \"Soil_Type\": \"Sandy\",\n",
    "        \"Crop\": \"Cotton\",\n",
    "        \"Rainfall_mm\": 897.08,\n",
    "        \"Temperature_Celsius\": 27.68,\n",
    "        \"Fertilizer_Used\": False,\n",
    "        \"Irrigation_Used\": True,\n",
    "        \"Weather_Condition\": \"Cloudy\",\n",
    "        \"Days_to_Harvest\": 122,\n",
    "    }\n",
    "\n",
    "    predictions = predict_yield_selected_models(example_data)\n",
    "\n",
    "    print(\"\\n🌾 Crop Yield Predictions (tons/ha):\")\n",
    "    for model, yield_value in predictions.items():\n",
    "        print(f\"{model:>20}: {yield_value:.5f}\")\n"
   ]
  }
 ],
 "metadata": {
  "kernelspec": {
   "display_name": "Python 3",
   "language": "python",
   "name": "python3"
  },
  "language_info": {
   "codemirror_mode": {
    "name": "ipython",
    "version": 3
   },
   "file_extension": ".py",
   "mimetype": "text/x-python",
   "name": "python",
   "nbconvert_exporter": "python",
   "pygments_lexer": "ipython3",
   "version": "3.10.undefined"
  }
 },
 "nbformat": 4,
 "nbformat_minor": 5
}
